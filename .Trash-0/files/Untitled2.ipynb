{
 "cells": [
  {
   "cell_type": "code",
   "execution_count": null,
   "id": "395869d6-2a08-41b6-b5b5-f34b369c6d22",
   "metadata": {},
   "outputs": [],
   "source": []
  }
 ],
 "metadata": {
  "kernelspec": {
   "display_name": "",
   "name": ""
  },
  "language_info": {
   "name": ""
  }
 },
 "nbformat": 4,
 "nbformat_minor": 5
}
