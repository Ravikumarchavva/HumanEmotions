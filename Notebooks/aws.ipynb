{
 "cells": [
  {
   "cell_type": "code",
   "execution_count": 5,
   "id": "fcbafeef-9217-475a-93b2-9298fd00fd95",
   "metadata": {},
   "outputs": [
    {
     "name": "stdout",
     "output_type": "stream",
     "text": [
      "Response: {\"predicted_label\": \"angry\", \"probability\": 0.9994823336601257, \"probabilities\": [0.9994823336601257, 0.0005083796568214893, 9.324201528215781e-06], \"labels\": [\"angry\", \"happy\", \"sad\"]}\n",
      "Predicted Label: angry\n",
      "Probability: 0.9994823336601257\n",
      "Probabilities for all classes: [0.9994823336601257, 0.0005083796568214893, 9.324201528215781e-06]\n",
      "Labels: ['angry', 'happy', 'sad']\n"
     ]
    }
   ],
   "source": [
    "#End point deleted\n",
    "# import os\n",
    "\n",
    "# # Set the AWS credentials\n",
    "# os.environ[\"AWS_ACCESS_KEY_ID\"] = \"ID\"\n",
    "# os.environ[\"AWS_SECRET_ACCESS_KEY\"] = \"KEY\"\n",
    "# os.environ[\"AWS_DEFAULT_REGION\"] = \"ap-south-1\"  # Replace with your region\n",
    "\n",
    "# print(\"AWS credentials have been set.\")\n",
    "\n",
    "\n",
    "\n",
    "import boto3\n",
    "\n",
    "# Initialize the SageMaker runtime client\n",
    "client = boto3.client(\"runtime.sagemaker\", region_name=\"ap-south-1\")\n",
    "\n",
    "# Path to your image file (Ensure the path is correct)\n",
    "image_path = \"../EmotionsDataset/test/angry/104324.jpg\"\n",
    "\n",
    "# Read the image file as binary\n",
    "with open(image_path, \"rb\") as file:\n",
    "    image_data = file.read()\n",
    "\n",
    "# Invoke the SageMaker endpoint\n",
    "response = client.invoke_endpoint(\n",
    "    EndpointName=\"canvas-new-deployment-10-04-2024-10-07-PM\",  # Replace with your endpoint name\n",
    "    ContentType=\"application/x-image\",  # Content type for image input\n",
    "    Body=image_data,  # Raw binary image data\n",
    "    Accept=\"application/json\"  # Response content type\n",
    ")\n",
    "\n",
    "# Parse and print the response\n",
    "response_body = response[\"Body\"].read().decode(\"utf-8\")\n",
    "print(\"Response:\", response_body)\n",
    "\n",
    "# Additional parsing for better clarity (Optional)\n",
    "import json\n",
    "parsed_response = json.loads(response_body)\n",
    "print(f\"Predicted Label: {parsed_response['predicted_label']}\")\n",
    "print(f\"Probability: {parsed_response['probability']}\")\n",
    "print(f\"Probabilities for all classes: {parsed_response['probabilities']}\")\n",
    "print(f\"Labels: {parsed_response['labels']}\")"
   ]
  },
  {
   "cell_type": "code",
   "execution_count": null,
   "id": "db39dda7-9182-4c67-96f3-fcf743e8bae0",
   "metadata": {},
   "outputs": [],
   "source": []
  }
 ],
 "metadata": {
  "kernelspec": {
   "display_name": "Python 3 (ipykernel)",
   "language": "python",
   "name": "python3"
  },
  "language_info": {
   "codemirror_mode": {
    "name": "ipython",
    "version": 3
   },
   "file_extension": ".py",
   "mimetype": "text/x-python",
   "name": "python",
   "nbconvert_exporter": "python",
   "pygments_lexer": "ipython3",
   "version": "3.11.0rc1"
  }
 },
 "nbformat": 4,
 "nbformat_minor": 5
}
