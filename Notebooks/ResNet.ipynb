{
 "cells": [
  {
   "cell_type": "code",
   "execution_count": 33,
   "id": "8f336f40-df02-4428-816c-e5ea8cf7775b",
   "metadata": {},
   "outputs": [],
   "source": [
    "import tensorflow as tf\n",
    "TRAIN_DIR = '../EmotionsDataset/train/'\n",
    "TEST_DIR = '../EmotionsDataset/test/'\n",
    "CLASS_NAMES = ['angry','happy','sad']\n",
    "# Updated Configuration\n",
    "CONFIGURATION = {\n",
    "    'BATCH_SIZE': 32,\n",
    "    'IM_SIZE': 256,\n",
    "    'N_EPOCHS': 30,\n",
    "    'LEARNING_RATE': 0.001,\n",
    "    'NUM_CLASSES': 3,\n",
    "}"
   ]
  },
  {
   "cell_type": "code",
   "execution_count": 34,
   "id": "fcd05f61-a038-47cd-bf5e-f71a0cce2017",
   "metadata": {},
   "outputs": [
    {
     "name": "stdout",
     "output_type": "stream",
     "text": [
      "Found 6799 files belonging to 3 classes.\n",
      "Found 2278 files belonging to 3 classes.\n"
     ]
    }
   ],
   "source": [
    "train_dataset = tf.keras.preprocessing.image_dataset_from_directory(directory=TRAIN_DIR,\n",
    "    labels='inferred',\n",
    "    label_mode='categorical',\n",
    "    class_names=CLASS_NAMES,\n",
    "    color_mode='rgb',\n",
    "    batch_size=CONFIGURATION['BATCH_SIZE'],\n",
    "    image_size=(CONFIGURATION['IM_SIZE'], CONFIGURATION['IM_SIZE']),\n",
    "    shuffle=True,\n",
    "    seed=42,\n",
    "    validation_split=None,\n",
    "    subset=None\n",
    ")\n",
    "test_dataset = tf.keras.preprocessing.image_dataset_from_directory(directory=TEST_DIR,\n",
    "    labels='inferred',\n",
    "    label_mode='categorical',\n",
    "    class_names=CLASS_NAMES,\n",
    "    color_mode='rgb',\n",
    "    batch_size=CONFIGURATION['BATCH_SIZE'],\n",
    "    image_size=(CONFIGURATION['IM_SIZE'], CONFIGURATION['IM_SIZE']),\n",
    "    shuffle=True,\n",
    "    seed=42,\n",
    "    validation_split=None,\n",
    "    subset=None\n",
    ")"
   ]
  },
  {
   "cell_type": "code",
   "execution_count": 35,
   "id": "dfd42f80-eb35-442d-9584-34c33f46e8e8",
   "metadata": {},
   "outputs": [],
   "source": [
    "from tensorflow.keras.callbacks import Callback,CSVLogger,EarlyStopping\n",
    "csv_logger = CSVLogger(\"renetLogs.csv\",separator=',',append=False)\n",
    "es_callback = EarlyStopping(restore_best_weights=True,patience=4)\n",
    "from tensorflow.keras.callbacks import LearningRateScheduler\n",
    "\n",
    "def scheduler(epoch, lr):\n",
    "    if epoch < 3:\n",
    "        return lr\n",
    "    else:\n",
    "        return float(lr * tf.math.exp(-0.1))\n",
    "\n",
    "sched = LearningRateScheduler(scheduler, verbose=1)"
   ]
  },
  {
   "cell_type": "code",
   "execution_count": 36,
   "id": "c6d77628-41cd-49e3-83d7-0e1e1a713959",
   "metadata": {},
   "outputs": [],
   "source": [
    "# Preprocessing function\n",
    "def preprocess(image, label):\n",
    "    image = tf.image.resize(image, [224, 224])  # Resize images to 224x224\n",
    "    image = tf.cast(image, tf.float32)  # Convert images to float32\n",
    "    return image, label\n",
    "\n",
    "train_dataset = train_dataset.map(preprocess)\n",
    "test_dataset = test_dataset.map(preprocess)\n",
    "\n",
    "# Normalization function\n",
    "def normalise(image, label):\n",
    "    return image / 255.0, label\n",
    "\n",
    "# Apply normalization\n",
    "train_dataset = train_dataset.map(normalise)\n",
    "test_dataset = test_dataset.map(normalise)\n",
    "\n",
    "# # Apply shuffling, batching, and prefetching\n",
    "# train_dataset = train_dataset.shuffle(buffer_size=1024).batch(32).prefetch(tf.data.AUTOTUNE)\n",
    "# test_dataset = test_dataset.batch(32).prefetch(tf.data.AUTOTUNE)"
   ]
  },
  {
   "cell_type": "code",
   "execution_count": 37,
   "id": "39568df1-6760-4a5e-834a-1e643ec8f0ec",
   "metadata": {},
   "outputs": [
    {
     "data": {
      "text/plain": [
       "<_TakeDataset element_spec=(TensorSpec(shape=(None, 224, 224, 3), dtype=tf.float32, name=None), TensorSpec(shape=(None, 3), dtype=tf.float32, name=None))>"
      ]
     },
     "execution_count": 37,
     "metadata": {},
     "output_type": "execute_result"
    }
   ],
   "source": [
    "train_dataset.take(1)"
   ]
  },
  {
   "cell_type": "code",
   "execution_count": 38,
   "id": "7aef6f4b-65d4-4fa0-be52-f9b581188972",
   "metadata": {},
   "outputs": [],
   "source": [
    "from keras.layers import Add,Conv2D,Layer, MaxPooling2D, Dense, InputLayer, Flatten, BatchNormalization, GlobalAveragePooling2D, BatchNormalization, Activation\n",
    "class CustomConv2D(Layer):\n",
    "    def __init__(self, filters, kernel_size, strides=1, padding='valid'): # Add data_format\n",
    "        super(CustomConv2D, self).__init__()\n",
    "        self.conv2D = Conv2D(filters, kernel_size, strides, padding=padding) # Set data_format for Conv2D\n",
    "        self.batchNorm = BatchNormalization()\n",
    "\n",
    "    def call(self, x, training=True):\n",
    "        # Ensure x is of shape (batch_size, height, width, channels)\n",
    "        x = self.conv2D(x)\n",
    "        x = self.batchNorm(x, training=training)\n",
    "        return x"
   ]
  },
  {
   "cell_type": "code",
   "execution_count": 39,
   "id": "aeeb3657-2d2e-4309-9bf1-a2719e3ca610",
   "metadata": {},
   "outputs": [],
   "source": [
    "class ResidualBlock(Layer):\n",
    "    def __init__(self, n_channels, n_strides=1):\n",
    "        super(ResidualBlock, self).__init__(name=\"residual_layer\")\n",
    "        self.dotted = (n_strides != 1) or (n_channels != 3)  # Adjust the check for the number of channels\n",
    "        self.custom_conv_1 = CustomConv2D(n_channels, 3, n_strides, padding=\"same\")\n",
    "        self.custom_conv_2 = CustomConv2D(n_channels, 3, 1, padding=\"same\")\n",
    "        self.activation = Activation(\"relu\")\n",
    "        \n",
    "        if self.dotted:\n",
    "            self.custom_conv_3 = CustomConv2D(n_channels, 1, n_strides)\n",
    "\n",
    "    def call(self, Input, training=False):\n",
    "        x = self.custom_conv_1(Input, training=training)\n",
    "        x = self.custom_conv_2(x, training=training)\n",
    "        \n",
    "        if self.dotted:\n",
    "            x_add = self.custom_conv_3(Input, training=training)\n",
    "            x_add = Add()([x, x_add])\n",
    "        else:\n",
    "            x_add = Add()([x, Input])\n",
    "        \n",
    "        return self.activation(x_add)\n"
   ]
  },
  {
   "cell_type": "code",
   "execution_count": 40,
   "id": "036026ca-9f2e-4ec3-aeaa-b0213bba6997",
   "metadata": {},
   "outputs": [],
   "source": [
    "from keras.models import Model\n",
    "import tensorflow as tf # Import tensorflow\n",
    "\n",
    "class ResNet34(Model):\n",
    "    def __init__(self, num_classes):\n",
    "        super(ResNet34, self).__init__(name=\"resnet_34\")\n",
    "        # Input layer with explicit input shape\n",
    "        self.conv_1 = CustomConv2D(67,3,2, padding='same')\n",
    "        self.max_pool = MaxPooling2D(3, 2)\n",
    "\n",
    "        # Residual Layers\n",
    "        self.conv_2_1 = ResidualBlock(64)\n",
    "        self.conv_2_2 = ResidualBlock(64)\n",
    "        self.conv_2_3 = ResidualBlock(64)\n",
    "        \n",
    "        self.conv_3_1 = ResidualBlock(128, 2)\n",
    "        self.conv_3_2 = ResidualBlock(128)\n",
    "        self.conv_3_3 = ResidualBlock(128)\n",
    "        \n",
    "        self.conv_4_1 = ResidualBlock(256, 2)\n",
    "        self.conv_4_2 = ResidualBlock(256)\n",
    "        self.conv_4_3 = ResidualBlock(256)\n",
    "        \n",
    "        self.conv_5_1 = ResidualBlock(512, 2)\n",
    "        self.conv_5_2 = ResidualBlock(512)\n",
    "        self.conv_5_3 = ResidualBlock(512)\n",
    "\n",
    "        # Global Average Pooling and Fully Connected\n",
    "        self.global_pool = GlobalAveragePooling2D()\n",
    "        self.fc = Dense(num_classes, activation='softmax')\n",
    "\n",
    "    def call(self, x, training=True):\n",
    "        # Pass through the first convolutional layer\n",
    "        x = self.conv_1(x, training=training)\n",
    "        x = self.max_pool(x)\n",
    "    \n",
    "        # Now process the residual blocks\n",
    "        x = self.conv_2_1(x, training=training)\n",
    "        x = self.conv_2_2(x, training=training)\n",
    "        x = self.conv_2_3(x, training=training)\n",
    "    \n",
    "        x = self.conv_3_1(x, training=training)\n",
    "        x = self.conv_3_2(x, training=training)\n",
    "        x = self.conv_3_3(x, training=training)\n",
    "    \n",
    "        x = self.conv_4_1(x, training=training)\n",
    "        x = self.conv_4_2(x, training=training)\n",
    "        x = self.conv_4_3(x, training=training)\n",
    "    \n",
    "        x = self.conv_5_1(x, training=training)\n",
    "        x = self.conv_5_2(x, training=training)\n",
    "        x = self.conv_5_3(x, training=training)\n",
    "    \n",
    "        x = self.global_pool(x)\n",
    "        return self.fc(x)"
   ]
  },
  {
   "cell_type": "code",
   "execution_count": 41,
   "id": "673be1a1-a0ac-482a-ae31-fe69abc8f407",
   "metadata": {},
   "outputs": [
    {
     "data": {
      "text/html": [
       "<pre style=\"white-space:pre;overflow-x:auto;line-height:normal;font-family:Menlo,'DejaVu Sans Mono',consolas,'Courier New',monospace\"><span style=\"font-weight: bold\">Model: \"resnet_34\"</span>\n",
       "</pre>\n"
      ],
      "text/plain": [
       "\u001b[1mModel: \"resnet_34\"\u001b[0m\n"
      ]
     },
     "metadata": {},
     "output_type": "display_data"
    },
    {
     "data": {
      "text/html": [
       "<pre style=\"white-space:pre;overflow-x:auto;line-height:normal;font-family:Menlo,'DejaVu Sans Mono',consolas,'Courier New',monospace\">┏━━━━━━━━━━━━━━━━━━━━━━━━━━━━━━━━━┳━━━━━━━━━━━━━━━━━━━━━━━━┳━━━━━━━━━━━━━━━┓\n",
       "┃<span style=\"font-weight: bold\"> Layer (type)                    </span>┃<span style=\"font-weight: bold\"> Output Shape           </span>┃<span style=\"font-weight: bold\">       Param # </span>┃\n",
       "┡━━━━━━━━━━━━━━━━━━━━━━━━━━━━━━━━━╇━━━━━━━━━━━━━━━━━━━━━━━━╇━━━━━━━━━━━━━━━┩\n",
       "│ custom_conv2d_167               │ ?                      │         <span style=\"color: #00af00; text-decoration-color: #00af00\">2,144</span> │\n",
       "│ (<span style=\"color: #0087ff; text-decoration-color: #0087ff\">CustomConv2D</span>)                  │                        │               │\n",
       "├─────────────────────────────────┼────────────────────────┼───────────────┤\n",
       "│ max_pooling2d_5 (<span style=\"color: #0087ff; text-decoration-color: #0087ff\">MaxPooling2D</span>)  │ (<span style=\"color: #00af00; text-decoration-color: #00af00\">1</span>, <span style=\"color: #00af00; text-decoration-color: #00af00\">55</span>, <span style=\"color: #00af00; text-decoration-color: #00af00\">55</span>, <span style=\"color: #00af00; text-decoration-color: #00af00\">67</span>)        │             <span style=\"color: #00af00; text-decoration-color: #00af00\">0</span> │\n",
       "├─────────────────────────────────┼────────────────────────┼───────────────┤\n",
       "│ residual_layer (<span style=\"color: #0087ff; text-decoration-color: #0087ff\">ResidualBlock</span>)  │ ?                      │        <span style=\"color: #00af00; text-decoration-color: #00af00\">80,704</span> │\n",
       "├─────────────────────────────────┼────────────────────────┼───────────────┤\n",
       "│ residual_layer (<span style=\"color: #0087ff; text-decoration-color: #0087ff\">ResidualBlock</span>)  │ ?                      │        <span style=\"color: #00af00; text-decoration-color: #00af00\">78,784</span> │\n",
       "├─────────────────────────────────┼────────────────────────┼───────────────┤\n",
       "│ residual_layer (<span style=\"color: #0087ff; text-decoration-color: #0087ff\">ResidualBlock</span>)  │ ?                      │        <span style=\"color: #00af00; text-decoration-color: #00af00\">78,784</span> │\n",
       "├─────────────────────────────────┼────────────────────────┼───────────────┤\n",
       "│ residual_layer (<span style=\"color: #0087ff; text-decoration-color: #0087ff\">ResidualBlock</span>)  │ ?                      │       <span style=\"color: #00af00; text-decoration-color: #00af00\">231,296</span> │\n",
       "├─────────────────────────────────┼────────────────────────┼───────────────┤\n",
       "│ residual_layer (<span style=\"color: #0087ff; text-decoration-color: #0087ff\">ResidualBlock</span>)  │ ?                      │       <span style=\"color: #00af00; text-decoration-color: #00af00\">313,216</span> │\n",
       "├─────────────────────────────────┼────────────────────────┼───────────────┤\n",
       "│ residual_layer (<span style=\"color: #0087ff; text-decoration-color: #0087ff\">ResidualBlock</span>)  │ ?                      │       <span style=\"color: #00af00; text-decoration-color: #00af00\">313,216</span> │\n",
       "├─────────────────────────────────┼────────────────────────┼───────────────┤\n",
       "│ residual_layer (<span style=\"color: #0087ff; text-decoration-color: #0087ff\">ResidualBlock</span>)  │ ?                      │       <span style=\"color: #00af00; text-decoration-color: #00af00\">921,344</span> │\n",
       "├─────────────────────────────────┼────────────────────────┼───────────────┤\n",
       "│ residual_layer (<span style=\"color: #0087ff; text-decoration-color: #0087ff\">ResidualBlock</span>)  │ ?                      │     <span style=\"color: #00af00; text-decoration-color: #00af00\">1,249,024</span> │\n",
       "├─────────────────────────────────┼────────────────────────┼───────────────┤\n",
       "│ residual_layer (<span style=\"color: #0087ff; text-decoration-color: #0087ff\">ResidualBlock</span>)  │ ?                      │     <span style=\"color: #00af00; text-decoration-color: #00af00\">1,249,024</span> │\n",
       "├─────────────────────────────────┼────────────────────────┼───────────────┤\n",
       "│ residual_layer (<span style=\"color: #0087ff; text-decoration-color: #0087ff\">ResidualBlock</span>)  │ ?                      │     <span style=\"color: #00af00; text-decoration-color: #00af00\">3,677,696</span> │\n",
       "├─────────────────────────────────┼────────────────────────┼───────────────┤\n",
       "│ residual_layer (<span style=\"color: #0087ff; text-decoration-color: #0087ff\">ResidualBlock</span>)  │ ?                      │     <span style=\"color: #00af00; text-decoration-color: #00af00\">4,988,416</span> │\n",
       "├─────────────────────────────────┼────────────────────────┼───────────────┤\n",
       "│ residual_layer (<span style=\"color: #0087ff; text-decoration-color: #0087ff\">ResidualBlock</span>)  │ ?                      │     <span style=\"color: #00af00; text-decoration-color: #00af00\">4,988,416</span> │\n",
       "├─────────────────────────────────┼────────────────────────┼───────────────┤\n",
       "│ global_average_pooling2d_5      │ (<span style=\"color: #00af00; text-decoration-color: #00af00\">1</span>, <span style=\"color: #00af00; text-decoration-color: #00af00\">512</span>)               │             <span style=\"color: #00af00; text-decoration-color: #00af00\">0</span> │\n",
       "│ (<span style=\"color: #0087ff; text-decoration-color: #0087ff\">GlobalAveragePooling2D</span>)        │                        │               │\n",
       "├─────────────────────────────────┼────────────────────────┼───────────────┤\n",
       "│ dense_5 (<span style=\"color: #0087ff; text-decoration-color: #0087ff\">Dense</span>)                 │ (<span style=\"color: #00af00; text-decoration-color: #00af00\">1</span>, <span style=\"color: #00af00; text-decoration-color: #00af00\">3</span>)                 │         <span style=\"color: #00af00; text-decoration-color: #00af00\">1,539</span> │\n",
       "└─────────────────────────────────┴────────────────────────┴───────────────┘\n",
       "</pre>\n"
      ],
      "text/plain": [
       "┏━━━━━━━━━━━━━━━━━━━━━━━━━━━━━━━━━┳━━━━━━━━━━━━━━━━━━━━━━━━┳━━━━━━━━━━━━━━━┓\n",
       "┃\u001b[1m \u001b[0m\u001b[1mLayer (type)                   \u001b[0m\u001b[1m \u001b[0m┃\u001b[1m \u001b[0m\u001b[1mOutput Shape          \u001b[0m\u001b[1m \u001b[0m┃\u001b[1m \u001b[0m\u001b[1m      Param #\u001b[0m\u001b[1m \u001b[0m┃\n",
       "┡━━━━━━━━━━━━━━━━━━━━━━━━━━━━━━━━━╇━━━━━━━━━━━━━━━━━━━━━━━━╇━━━━━━━━━━━━━━━┩\n",
       "│ custom_conv2d_167               │ ?                      │         \u001b[38;5;34m2,144\u001b[0m │\n",
       "│ (\u001b[38;5;33mCustomConv2D\u001b[0m)                  │                        │               │\n",
       "├─────────────────────────────────┼────────────────────────┼───────────────┤\n",
       "│ max_pooling2d_5 (\u001b[38;5;33mMaxPooling2D\u001b[0m)  │ (\u001b[38;5;34m1\u001b[0m, \u001b[38;5;34m55\u001b[0m, \u001b[38;5;34m55\u001b[0m, \u001b[38;5;34m67\u001b[0m)        │             \u001b[38;5;34m0\u001b[0m │\n",
       "├─────────────────────────────────┼────────────────────────┼───────────────┤\n",
       "│ residual_layer (\u001b[38;5;33mResidualBlock\u001b[0m)  │ ?                      │        \u001b[38;5;34m80,704\u001b[0m │\n",
       "├─────────────────────────────────┼────────────────────────┼───────────────┤\n",
       "│ residual_layer (\u001b[38;5;33mResidualBlock\u001b[0m)  │ ?                      │        \u001b[38;5;34m78,784\u001b[0m │\n",
       "├─────────────────────────────────┼────────────────────────┼───────────────┤\n",
       "│ residual_layer (\u001b[38;5;33mResidualBlock\u001b[0m)  │ ?                      │        \u001b[38;5;34m78,784\u001b[0m │\n",
       "├─────────────────────────────────┼────────────────────────┼───────────────┤\n",
       "│ residual_layer (\u001b[38;5;33mResidualBlock\u001b[0m)  │ ?                      │       \u001b[38;5;34m231,296\u001b[0m │\n",
       "├─────────────────────────────────┼────────────────────────┼───────────────┤\n",
       "│ residual_layer (\u001b[38;5;33mResidualBlock\u001b[0m)  │ ?                      │       \u001b[38;5;34m313,216\u001b[0m │\n",
       "├─────────────────────────────────┼────────────────────────┼───────────────┤\n",
       "│ residual_layer (\u001b[38;5;33mResidualBlock\u001b[0m)  │ ?                      │       \u001b[38;5;34m313,216\u001b[0m │\n",
       "├─────────────────────────────────┼────────────────────────┼───────────────┤\n",
       "│ residual_layer (\u001b[38;5;33mResidualBlock\u001b[0m)  │ ?                      │       \u001b[38;5;34m921,344\u001b[0m │\n",
       "├─────────────────────────────────┼────────────────────────┼───────────────┤\n",
       "│ residual_layer (\u001b[38;5;33mResidualBlock\u001b[0m)  │ ?                      │     \u001b[38;5;34m1,249,024\u001b[0m │\n",
       "├─────────────────────────────────┼────────────────────────┼───────────────┤\n",
       "│ residual_layer (\u001b[38;5;33mResidualBlock\u001b[0m)  │ ?                      │     \u001b[38;5;34m1,249,024\u001b[0m │\n",
       "├─────────────────────────────────┼────────────────────────┼───────────────┤\n",
       "│ residual_layer (\u001b[38;5;33mResidualBlock\u001b[0m)  │ ?                      │     \u001b[38;5;34m3,677,696\u001b[0m │\n",
       "├─────────────────────────────────┼────────────────────────┼───────────────┤\n",
       "│ residual_layer (\u001b[38;5;33mResidualBlock\u001b[0m)  │ ?                      │     \u001b[38;5;34m4,988,416\u001b[0m │\n",
       "├─────────────────────────────────┼────────────────────────┼───────────────┤\n",
       "│ residual_layer (\u001b[38;5;33mResidualBlock\u001b[0m)  │ ?                      │     \u001b[38;5;34m4,988,416\u001b[0m │\n",
       "├─────────────────────────────────┼────────────────────────┼───────────────┤\n",
       "│ global_average_pooling2d_5      │ (\u001b[38;5;34m1\u001b[0m, \u001b[38;5;34m512\u001b[0m)               │             \u001b[38;5;34m0\u001b[0m │\n",
       "│ (\u001b[38;5;33mGlobalAveragePooling2D\u001b[0m)        │                        │               │\n",
       "├─────────────────────────────────┼────────────────────────┼───────────────┤\n",
       "│ dense_5 (\u001b[38;5;33mDense\u001b[0m)                 │ (\u001b[38;5;34m1\u001b[0m, \u001b[38;5;34m3\u001b[0m)                 │         \u001b[38;5;34m1,539\u001b[0m │\n",
       "└─────────────────────────────────┴────────────────────────┴───────────────┘\n"
      ]
     },
     "metadata": {},
     "output_type": "display_data"
    },
    {
     "data": {
      "text/html": [
       "<pre style=\"white-space:pre;overflow-x:auto;line-height:normal;font-family:Menlo,'DejaVu Sans Mono',consolas,'Courier New',monospace\"><span style=\"font-weight: bold\"> Total params: </span><span style=\"color: #00af00; text-decoration-color: #00af00\">18,173,603</span> (69.33 MB)\n",
       "</pre>\n"
      ],
      "text/plain": [
       "\u001b[1m Total params: \u001b[0m\u001b[38;5;34m18,173,603\u001b[0m (69.33 MB)\n"
      ]
     },
     "metadata": {},
     "output_type": "display_data"
    },
    {
     "data": {
      "text/html": [
       "<pre style=\"white-space:pre;overflow-x:auto;line-height:normal;font-family:Menlo,'DejaVu Sans Mono',consolas,'Courier New',monospace\"><span style=\"font-weight: bold\"> Trainable params: </span><span style=\"color: #00af00; text-decoration-color: #00af00\">18,156,189</span> (69.26 MB)\n",
       "</pre>\n"
      ],
      "text/plain": [
       "\u001b[1m Trainable params: \u001b[0m\u001b[38;5;34m18,156,189\u001b[0m (69.26 MB)\n"
      ]
     },
     "metadata": {},
     "output_type": "display_data"
    },
    {
     "data": {
      "text/html": [
       "<pre style=\"white-space:pre;overflow-x:auto;line-height:normal;font-family:Menlo,'DejaVu Sans Mono',consolas,'Courier New',monospace\"><span style=\"font-weight: bold\"> Non-trainable params: </span><span style=\"color: #00af00; text-decoration-color: #00af00\">17,414</span> (68.02 KB)\n",
       "</pre>\n"
      ],
      "text/plain": [
       "\u001b[1m Non-trainable params: \u001b[0m\u001b[38;5;34m17,414\u001b[0m (68.02 KB)\n"
      ]
     },
     "metadata": {},
     "output_type": "display_data"
    }
   ],
   "source": [
    "model = ResNet34(num_classes=CONFIGURATION['NUM_CLASSES'])\n",
    "# Build the model (define the input shape accordingly)\n",
    "model(tf.zeros([1,224, 224, 3]),training= False)  # Example input shape with batch size 1\n",
    "model.summary()"
   ]
  },
  {
   "cell_type": "code",
   "execution_count": 42,
   "id": "2f201820-9b08-4817-9e02-935f4e084549",
   "metadata": {},
   "outputs": [],
   "source": [
    "from tensorflow.keras.optimizers import Adam\n",
    "from tensorflow.keras.losses import CategoricalCrossentropy\n",
    "from tensorflow.keras.metrics import CategoricalAccuracy\n",
    "# Compile the model\n",
    "model.compile(optimizer=Adam(),\n",
    "              loss=CategoricalCrossentropy(),\n",
    "              metrics=[CategoricalAccuracy()])"
   ]
  },
  {
   "cell_type": "code",
   "execution_count": 43,
   "id": "3f7f6d41-f241-4960-aa25-9addbb277ab9",
   "metadata": {},
   "outputs": [
    {
     "name": "stdout",
     "output_type": "stream",
     "text": [
      "\n",
      "Epoch 1: LearningRateScheduler setting learning rate to 0.0010000000474974513.\n",
      "Epoch 1/30\n",
      "\u001b[1m212/213\u001b[0m \u001b[32m━━━━━━━━━━━━━━━━━━━\u001b[0m\u001b[37m━\u001b[0m \u001b[1m0s\u001b[0m 311ms/step - categorical_accuracy: 0.4543 - loss: 1.2625"
     ]
    },
    {
     "name": "stderr",
     "output_type": "stream",
     "text": [
      "2024-09-21 17:44:52.170964: W external/local_tsl/tsl/framework/bfc_allocator.cc:291] Allocator (GPU_0_bfc) ran out of memory trying to allocate 1.14GiB with freed_by_count=0. The caller indicates that this is not a failure, but this may mean that there could be performance gains if more memory were available.\n"
     ]
    },
    {
     "name": "stdout",
     "output_type": "stream",
     "text": [
      "\u001b[1m213/213\u001b[0m \u001b[32m━━━━━━━━━━━━━━━━━━━━\u001b[0m\u001b[37m\u001b[0m \u001b[1m152s\u001b[0m 490ms/step - categorical_accuracy: 0.4545 - loss: 1.2609 - val_categorical_accuracy: 0.4416 - val_loss: 1.1382 - learning_rate: 0.0010\n",
      "\n",
      "Epoch 2: LearningRateScheduler setting learning rate to 0.0010000000474974513.\n",
      "Epoch 2/30\n",
      "\u001b[1m213/213\u001b[0m \u001b[32m━━━━━━━━━━━━━━━━━━━━\u001b[0m\u001b[37m\u001b[0m \u001b[1m69s\u001b[0m 322ms/step - categorical_accuracy: 0.5041 - loss: 1.0222 - val_categorical_accuracy: 0.4802 - val_loss: 2.1114 - learning_rate: 0.0010\n",
      "\n",
      "Epoch 3: LearningRateScheduler setting learning rate to 0.0010000000474974513.\n",
      "Epoch 3/30\n",
      "\u001b[1m213/213\u001b[0m \u001b[32m━━━━━━━━━━━━━━━━━━━━\u001b[0m\u001b[37m\u001b[0m \u001b[1m68s\u001b[0m 317ms/step - categorical_accuracy: 0.5114 - loss: 0.9981 - val_categorical_accuracy: 0.3859 - val_loss: 4.0510 - learning_rate: 0.0010\n",
      "\n",
      "Epoch 4: LearningRateScheduler setting learning rate to 0.0009048373904079199.\n",
      "Epoch 4/30\n",
      "\u001b[1m213/213\u001b[0m \u001b[32m━━━━━━━━━━━━━━━━━━━━\u001b[0m\u001b[37m\u001b[0m \u001b[1m67s\u001b[0m 312ms/step - categorical_accuracy: 0.5464 - loss: 0.9571 - val_categorical_accuracy: 0.3946 - val_loss: 1.1749 - learning_rate: 9.0484e-04\n",
      "\n",
      "Epoch 5: LearningRateScheduler setting learning rate to 0.0008187306812033057.\n",
      "Epoch 5/30\n",
      "\u001b[1m213/213\u001b[0m \u001b[32m━━━━━━━━━━━━━━━━━━━━\u001b[0m\u001b[37m\u001b[0m \u001b[1m67s\u001b[0m 312ms/step - categorical_accuracy: 0.5662 - loss: 0.9257 - val_categorical_accuracy: 0.5334 - val_loss: 0.9887 - learning_rate: 8.1873e-04\n",
      "\n",
      "Epoch 6: LearningRateScheduler setting learning rate to 0.000740818097256124.\n",
      "Epoch 6/30\n",
      "\u001b[1m213/213\u001b[0m \u001b[32m━━━━━━━━━━━━━━━━━━━━\u001b[0m\u001b[37m\u001b[0m \u001b[1m67s\u001b[0m 312ms/step - categorical_accuracy: 0.6195 - loss: 0.8228 - val_categorical_accuracy: 0.5768 - val_loss: 0.9922 - learning_rate: 7.4082e-04\n",
      "\n",
      "Epoch 7: LearningRateScheduler setting learning rate to 0.000670319888740778.\n",
      "Epoch 7/30\n",
      "\u001b[1m213/213\u001b[0m \u001b[32m━━━━━━━━━━━━━━━━━━━━\u001b[0m\u001b[37m\u001b[0m \u001b[1m61s\u001b[0m 283ms/step - categorical_accuracy: 0.6449 - loss: 0.7818 - val_categorical_accuracy: 0.6225 - val_loss: 0.8582 - learning_rate: 6.7032e-04\n",
      "\n",
      "Epoch 8: LearningRateScheduler setting learning rate to 0.0006065304623916745.\n",
      "Epoch 8/30\n",
      "\u001b[1m213/213\u001b[0m \u001b[32m━━━━━━━━━━━━━━━━━━━━\u001b[0m\u001b[37m\u001b[0m \u001b[1m48s\u001b[0m 226ms/step - categorical_accuracy: 0.6832 - loss: 0.7121 - val_categorical_accuracy: 0.6159 - val_loss: 0.8493 - learning_rate: 6.0653e-04\n",
      "\n",
      "Epoch 9: LearningRateScheduler setting learning rate to 0.0005488114547915757.\n",
      "Epoch 9/30\n",
      "\u001b[1m213/213\u001b[0m \u001b[32m━━━━━━━━━━━━━━━━━━━━\u001b[0m\u001b[37m\u001b[0m \u001b[1m48s\u001b[0m 225ms/step - categorical_accuracy: 0.7185 - loss: 0.6437 - val_categorical_accuracy: 0.6725 - val_loss: 0.7863 - learning_rate: 5.4881e-04\n",
      "\n",
      "Epoch 10: LearningRateScheduler setting learning rate to 0.0004965850966982543.\n",
      "Epoch 10/30\n",
      "\u001b[1m213/213\u001b[0m \u001b[32m━━━━━━━━━━━━━━━━━━━━\u001b[0m\u001b[37m\u001b[0m \u001b[1m48s\u001b[0m 225ms/step - categorical_accuracy: 0.7461 - loss: 0.5869 - val_categorical_accuracy: 0.7195 - val_loss: 0.6719 - learning_rate: 4.9659e-04\n",
      "\n",
      "Epoch 11: LearningRateScheduler setting learning rate to 0.0004493287415243685.\n",
      "Epoch 11/30\n",
      "\u001b[1m213/213\u001b[0m \u001b[32m━━━━━━━━━━━━━━━━━━━━\u001b[0m\u001b[37m\u001b[0m \u001b[1m48s\u001b[0m 226ms/step - categorical_accuracy: 0.7712 - loss: 0.5490 - val_categorical_accuracy: 0.6514 - val_loss: 0.8176 - learning_rate: 4.4933e-04\n",
      "\n",
      "Epoch 12: LearningRateScheduler setting learning rate to 0.0004065694229211658.\n",
      "Epoch 12/30\n",
      "\u001b[1m213/213\u001b[0m \u001b[32m━━━━━━━━━━━━━━━━━━━━\u001b[0m\u001b[37m\u001b[0m \u001b[1m48s\u001b[0m 225ms/step - categorical_accuracy: 0.7933 - loss: 0.4896 - val_categorical_accuracy: 0.7331 - val_loss: 0.6352 - learning_rate: 4.0657e-04\n",
      "\n",
      "Epoch 13: LearningRateScheduler setting learning rate to 0.00036787919816561043.\n",
      "Epoch 13/30\n",
      "\u001b[1m213/213\u001b[0m \u001b[32m━━━━━━━━━━━━━━━━━━━━\u001b[0m\u001b[37m\u001b[0m \u001b[1m47s\u001b[0m 222ms/step - categorical_accuracy: 0.8125 - loss: 0.4428 - val_categorical_accuracy: 0.6273 - val_loss: 0.8710 - learning_rate: 3.6788e-04\n",
      "\n",
      "Epoch 14: LearningRateScheduler setting learning rate to 0.0003328708407934755.\n",
      "Epoch 14/30\n",
      "\u001b[1m213/213\u001b[0m \u001b[32m━━━━━━━━━━━━━━━━━━━━\u001b[0m\u001b[37m\u001b[0m \u001b[1m48s\u001b[0m 223ms/step - categorical_accuracy: 0.8478 - loss: 0.3645 - val_categorical_accuracy: 0.7660 - val_loss: 0.6052 - learning_rate: 3.3287e-04\n",
      "\n",
      "Epoch 15: LearningRateScheduler setting learning rate to 0.00030119396978989244.\n",
      "Epoch 15/30\n",
      "\u001b[1m213/213\u001b[0m \u001b[32m━━━━━━━━━━━━━━━━━━━━\u001b[0m\u001b[37m\u001b[0m \u001b[1m47s\u001b[0m 222ms/step - categorical_accuracy: 0.8712 - loss: 0.3263 - val_categorical_accuracy: 0.7445 - val_loss: 0.7315 - learning_rate: 3.0119e-04\n",
      "\n",
      "Epoch 16: LearningRateScheduler setting learning rate to 0.000272531557129696.\n",
      "Epoch 16/30\n",
      "\u001b[1m213/213\u001b[0m \u001b[32m━━━━━━━━━━━━━━━━━━━━\u001b[0m\u001b[37m\u001b[0m \u001b[1m48s\u001b[0m 223ms/step - categorical_accuracy: 0.8852 - loss: 0.2845 - val_categorical_accuracy: 0.7059 - val_loss: 0.8260 - learning_rate: 2.7253e-04\n",
      "\n",
      "Epoch 17: LearningRateScheduler setting learning rate to 0.0002465967263560742.\n",
      "Epoch 17/30\n",
      "\u001b[1m213/213\u001b[0m \u001b[32m━━━━━━━━━━━━━━━━━━━━\u001b[0m\u001b[37m\u001b[0m \u001b[1m47s\u001b[0m 222ms/step - categorical_accuracy: 0.8999 - loss: 0.2582 - val_categorical_accuracy: 0.7182 - val_loss: 0.9595 - learning_rate: 2.4660e-04\n",
      "\n",
      "Epoch 18: LearningRateScheduler setting learning rate to 0.0002231299295090139.\n",
      "Epoch 18/30\n",
      "\u001b[1m213/213\u001b[0m \u001b[32m━━━━━━━━━━━━━━━━━━━━\u001b[0m\u001b[37m\u001b[0m \u001b[1m48s\u001b[0m 223ms/step - categorical_accuracy: 0.9224 - loss: 0.2054 - val_categorical_accuracy: 0.7445 - val_loss: 0.9560 - learning_rate: 2.2313e-04\n"
     ]
    }
   ],
   "source": [
    "# When defining the input, ensure you have the correct shape\n",
    "input_shape = (224, 224, 3)\n",
    "\n",
    "\n",
    "# Now train your model\n",
    "history = model.fit(train_dataset,\n",
    "                    epochs=30,\n",
    "                    validation_data=test_dataset,\n",
    "                    callbacks=[csv_logger, es_callback, sched])"
   ]
  },
  {
   "cell_type": "code",
   "execution_count": 44,
   "id": "a02ac95c-a39f-4c11-9ac5-dbee6dd05783",
   "metadata": {},
   "outputs": [
    {
     "data": {
      "text/plain": [
       "[<matplotlib.lines.Line2D at 0x7fbe3a7ccad0>]"
      ]
     },
     "execution_count": 44,
     "metadata": {},
     "output_type": "execute_result"
    },
    {
     "data": {
      "image/png": "[encoded data removed]",
      "text/plain": [
       "<Figure size 640x480 with 1 Axes>"
      ]
     },
     "metadata": {},
     "output_type": "display_data"
    }
   ],
   "source": [
    "import matplotlib.pyplot as plt\n",
    "plt.plot(history.history['categorical_accuracy'])\n",
    "plt.plot(history.history['val_categorical_accuracy'])"
   ]
  },
  {
   "cell_type": "code",
   "execution_count": 46,
   "id": "a4d17c75-5843-4536-9cec-29c140ef9869",
   "metadata": {},
   "outputs": [
    {
     "data": {
      "text/plain": [
       "[<matplotlib.lines.Line2D at 0x7fbe3a325d50>]"
      ]
     },
     "execution_count": 46,
     "metadata": {},
     "output_type": "execute_result"
    },
    {
     "data": {
      "image/png": "[encoded data removed]",
      "text/plain": [
       "<Figure size 640x480 with 1 Axes>"
      ]
     },
     "metadata": {},
     "output_type": "display_data"
    }
   ],
   "source": [
    "import matplotlib.pyplot as plt\n",
    "plt.plot(history.history['loss'])\n",
    "plt.plot(history.history['val_loss'])"
   ]
  },
  {
   "cell_type": "code",
   "execution_count": null,
   "id": "5da99dbe-880a-45d4-8464-dc25c1b135df",
   "metadata": {},
   "outputs": [],
   "source": []
  }
 ],
 "metadata": {
  "kernelspec": {
   "display_name": "Python 3 (ipykernel)",
   "language": "python",
   "name": "python3"
  },
  "language_info": {
   "codemirror_mode": {
    "name": "ipython",
    "version": 3
   },
   "file_extension": ".py",
   "mimetype": "text/x-python",
   "name": "python",
   "nbconvert_exporter": "python",
   "pygments_lexer": "ipython3",
   "version": "3.11.0rc1"
  }
 },
 "nbformat": 4,
 "nbformat_minor": 5
}
