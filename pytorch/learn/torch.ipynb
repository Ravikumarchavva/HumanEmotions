{
 "cells": [
  {
   "cell_type": "code",
   "execution_count": 1,
   "metadata": {},
   "outputs": [
    {
     "name": "stderr",
     "output_type": "stream",
     "text": [
      "Failed to detect the name of this notebook, you can set it manually with the WANDB_NOTEBOOK_NAME environment variable to enable code saving.\n",
      "wandb: Using wandb-core as the SDK backend. Please refer to https://wandb.me/wandb-core for more information.\n",
      "wandb: Currently logged in as: ravikumarchavva (ravikumarchavva-org). Use `wandb login --relogin` to force relogin\n",
      "wandb: WARNING If you're specifying your api key in code, ensure this code is not shared publicly.\n",
      "wandb: WARNING Consider setting the WANDB_API_KEY environment variable, or running `wandb login` from the command line.\n",
      "wandb: Appending key for api.wandb.ai to your netrc file: C:\\Users\\chavv\\_netrc\n"
     ]
    },
    {
     "name": "stdout",
     "output_type": "stream",
     "text": [
      "Logged in successfully.\n"
     ]
    }
   ],
   "source": [
    "# Import the necessary libraries\n",
    "import wandb\n",
    "from dotenv import load_dotenv\n",
    "import os\n",
    "\n",
    "# Load the environment variables from the .env file\n",
    "load_dotenv()\n",
    "\n",
    "# Get the API key from the environment variable\n",
    "api_key = os.getenv(\"WANDB_API_KEY\")\n",
    "\n",
    "# Login to Weights & Biases using the API key\n",
    "try:\n",
    "    wandb.login(key=api_key)\n",
    "    print(\"Logged in successfully.\")\n",
    "except Exception as e:\n",
    "    print(f\"Error during login: {e}\")"
   ]
  },
  {
   "cell_type": "code",
   "execution_count": 2,
   "metadata": {},
   "outputs": [
    {
     "data": {
      "text/html": [
       "Tracking run with wandb version 0.18.3"
      ],
      "text/plain": [
       "<IPython.core.display.HTML object>"
      ]
     },
     "metadata": {},
     "output_type": "display_data"
    },
    {
     "data": {
      "text/html": [
       "Run data is saved locally in <code>d:\\github\\HumanEmotions\\pytorch\\learn\\wandb\\run-20241011_221049-gfq4u0n0</code>"
      ],
      "text/plain": [
       "<IPython.core.display.HTML object>"
      ]
     },
     "metadata": {},
     "output_type": "display_data"
    },
    {
     "data": {
      "text/html": [
       "Syncing run <strong><a href='https://wandb.ai/ravikumarchavva-org/human-emotion-estimation-pytorch/runs/gfq4u0n0' target=\"_blank\">human-emotion-estimation-1</a></strong> to <a href='https://wandb.ai/ravikumarchavva-org/human-emotion-estimation-pytorch' target=\"_blank\">Weights & Biases</a> (<a href='https://wandb.me/run' target=\"_blank\">docs</a>)<br/>"
      ],
      "text/plain": [
       "<IPython.core.display.HTML object>"
      ]
     },
     "metadata": {},
     "output_type": "display_data"
    },
    {
     "data": {
      "text/html": [
       " View project at <a href='https://wandb.ai/ravikumarchavva-org/human-emotion-estimation-pytorch' target=\"_blank\">https://wandb.ai/ravikumarchavva-org/human-emotion-estimation-pytorch</a>"
      ],
      "text/plain": [
       "<IPython.core.display.HTML object>"
      ]
     },
     "metadata": {},
     "output_type": "display_data"
    },
    {
     "data": {
      "text/html": [
       " View run at <a href='https://wandb.ai/ravikumarchavva-org/human-emotion-estimation-pytorch/runs/gfq4u0n0' target=\"_blank\">https://wandb.ai/ravikumarchavva-org/human-emotion-estimation-pytorch/runs/gfq4u0n0</a>"
      ],
      "text/plain": [
       "<IPython.core.display.HTML object>"
      ]
     },
     "metadata": {},
     "output_type": "display_data"
    }
   ],
   "source": [
    "# Updated Configuration\n",
    "CONFIGURATION = {\n",
    "    'BATCH_SIZE': 32,\n",
    "    'IM_SIZE': 224,\n",
    "    'N_EPOCHS': 10,\n",
    "    'LEARNING_RATE': 1e-5,\n",
    "    'NUM_CLASSES': 3,\n",
    "}\n",
    "\n",
    "run = wandb.init(\n",
    "    # Set the project where this run will be logged\n",
    "    project=\"human-emotion-estimation-pytorch\",\n",
    "\n",
    "    # Set the experiment name\n",
    "    name=\"human-emotion-estimation-1\",\n",
    "    # Track hyperparameters and run metadata\n",
    "    config={\n",
    "        \"learning_rate\": CONFIGURATION['LEARNING_RATE'],\n",
    "        \"epochs\": CONFIGURATION['N_EPOCHS'],\n",
    "        \"batch_size\": CONFIGURATION['BATCH_SIZE'],\n",
    "        \"image_size\": CONFIGURATION['IM_SIZE'],\n",
    "        \"num_classes\": CONFIGURATION['NUM_CLASSES'],\n",
    "    },\n",
    ")"
   ]
  },
  {
   "cell_type": "code",
   "execution_count": 3,
   "metadata": {},
   "outputs": [],
   "source": [
    "from torch.utils.data import DataLoader, Dataset\n",
    "from torchvision import transforms\n",
    "from torchvision.datasets import ImageFolder\n",
    "import torch\n",
    "import torch.nn as nn\n",
    "import torch.optim as optim\n",
    "from tqdm import tqdm\n",
    "TRAIN_DIR = '../../EmotionsDataset/train/'\n",
    "TEST_DIR = '../../EmotionsDataset/test/'\n",
    "CLASS_NAMES = ['angry','happy','sad']\n",
    "\n",
    "class EmotionsDataset(Dataset):\n",
    "    def __init__(self, root_dir, transform=None):\n",
    "        self.dataset = ImageFolder(root=root_dir, transform=transform)\n",
    "        self.transform = transform\n",
    "\n",
    "    def __len__(self):\n",
    "        return len(self.dataset)\n",
    "\n",
    "    def __getitem__(self, idx):\n",
    "        image, label = self.dataset[idx]\n",
    "        return image, label"
   ]
  },
  {
   "cell_type": "code",
   "execution_count": 4,
   "metadata": {},
   "outputs": [],
   "source": [
    "transform = transforms.Compose([\n",
    "    transforms.Resize((224, 224)),\n",
    "    transforms.ToTensor()\n",
    "])\n",
    "train_dataset = EmotionsDataset(TRAIN_DIR, transform=transform)\n",
    "test_dataset = EmotionsDataset(TEST_DIR, transform=transform)"
   ]
  },
  {
   "cell_type": "code",
   "execution_count": 5,
   "metadata": {},
   "outputs": [],
   "source": [
    "train_dataloader = DataLoader(train_dataset, batch_size=32, shuffle=True)\n",
    "test_dataloader = DataLoader(test_dataset, batch_size=32, shuffle=False)"
   ]
  },
  {
   "cell_type": "code",
   "execution_count": 6,
   "metadata": {},
   "outputs": [
    {
     "data": {
      "text/plain": [
       "====================================================================================================\n",
       "Layer (type:depth-idx)                             Output Shape              Param #\n",
       "====================================================================================================\n",
       "EmotionsModel                                      [1, 3]                    1,281,000\n",
       "├─Sequential: 1-1                                  [1, 1280]                 --\n",
       "│    └─Conv2d: 2-1                                 [1, 32, 112, 112]         864\n",
       "│    └─BatchNormAct2d: 2-2                         [1, 32, 112, 112]         64\n",
       "│    │    └─Identity: 3-1                          [1, 32, 112, 112]         --\n",
       "│    │    └─SiLU: 3-2                              [1, 32, 112, 112]         --\n",
       "│    └─Sequential: 2-3                             [1, 320, 7, 7]            --\n",
       "│    │    └─Sequential: 3-3                        [1, 16, 112, 112]         1,448\n",
       "│    │    └─Sequential: 3-4                        [1, 24, 56, 56]           16,714\n",
       "│    │    └─Sequential: 3-5                        [1, 40, 28, 28]           46,640\n",
       "│    │    └─Sequential: 3-6                        [1, 80, 14, 14]           242,930\n",
       "│    │    └─Sequential: 3-7                        [1, 112, 14, 14]          543,148\n",
       "│    │    └─Sequential: 3-8                        [1, 192, 7, 7]            2,026,348\n",
       "│    │    └─Sequential: 3-9                        [1, 320, 7, 7]            717,232\n",
       "│    └─Conv2d: 2-4                                 [1, 1280, 7, 7]           409,600\n",
       "│    └─BatchNormAct2d: 2-5                         [1, 1280, 7, 7]           2,560\n",
       "│    │    └─Identity: 3-10                         [1, 1280, 7, 7]           --\n",
       "│    │    └─SiLU: 3-11                             [1, 1280, 7, 7]           --\n",
       "│    └─SelectAdaptivePool2d: 2-6                   [1, 1280]                 --\n",
       "│    │    └─AdaptiveAvgPool2d: 3-12                [1, 1280, 1, 1]           --\n",
       "│    │    └─Flatten: 3-13                          [1, 1280]                 --\n",
       "├─Linear: 1-2                                      [1, 3]                    3,843\n",
       "====================================================================================================\n",
       "Total params: 5,292,391\n",
       "Trainable params: 5,292,391\n",
       "Non-trainable params: 0\n",
       "Total mult-adds (M): 384.55\n",
       "====================================================================================================\n",
       "Input size (MB): 0.60\n",
       "Forward/backward pass size (MB): 53.98\n",
       "Params size (MB): 15.88\n",
       "Estimated Total Size (MB): 70.46\n",
       "===================================================================================================="
      ]
     },
     "execution_count": 6,
     "metadata": {},
     "output_type": "execute_result"
    }
   ],
   "source": [
    "import torch\n",
    "import torch.nn as nn\n",
    "import timm\n",
    "\n",
    "class EmotionsModel(nn.Module):\n",
    "    def __init__(self, num_classes=3):\n",
    "        super(EmotionsModel, self).__init__()\n",
    "        self.model = timm.create_model('efficientnet_b0', pretrained=True)\n",
    "        self.features = nn.Sequential(*list(self.model.children())[:-1])\n",
    "\n",
    "        # The final feature map size for EfficientNet-B0 is 1280\n",
    "        self.classifier = nn.Linear(1280, num_classes)\n",
    "\n",
    "    def forward(self, x):\n",
    "        x = self.features(x)\n",
    "\n",
    "        # Flatten the output from the feature extractor\n",
    "        x = x.view(x.size(0), -1)\n",
    "\n",
    "        x = self.classifier(x)\n",
    "        return x\n",
    "\n",
    "# Instantiate the model\n",
    "model = EmotionsModel()\n",
    "\n",
    "# Summarize the model architecture\n",
    "from torchinfo import summary\n",
    "summary(model, input_size=(1, 3, 224, 224))  # Input shape is (batch_size, channels, height, width)\n"
   ]
  },
  {
   "cell_type": "code",
   "execution_count": 7,
   "metadata": {},
   "outputs": [
    {
     "name": "stdout",
     "output_type": "stream",
     "text": [
      "Epoch 1/5\n"
     ]
    },
    {
     "name": "stderr",
     "output_type": "stream",
     "text": [
      "                                                           \r"
     ]
    },
    {
     "name": "stdout",
     "output_type": "stream",
     "text": [
      "Train Loss: 0.5691, Train Accuracy: 0.7588\n",
      "Validation Loss: 0.4214, Validation Accuracy: 0.8570\n",
      "Epoch 2/5\n"
     ]
    },
    {
     "name": "stderr",
     "output_type": "stream",
     "text": [
      "                                                           \r"
     ]
    },
    {
     "name": "stdout",
     "output_type": "stream",
     "text": [
      "Train Loss: 0.3614, Train Accuracy: 0.8587\n",
      "Validation Loss: 0.3965, Validation Accuracy: 0.8518\n",
      "Epoch 3/5\n"
     ]
    },
    {
     "name": "stderr",
     "output_type": "stream",
     "text": [
      "                                                           \r"
     ]
    },
    {
     "name": "stdout",
     "output_type": "stream",
     "text": [
      "Train Loss: 0.2740, Train Accuracy: 0.8945\n",
      "Validation Loss: 0.4165, Validation Accuracy: 0.8434\n",
      "Epoch 4/5\n"
     ]
    },
    {
     "name": "stderr",
     "output_type": "stream",
     "text": [
      "                                                           \r"
     ]
    },
    {
     "name": "stdout",
     "output_type": "stream",
     "text": [
      "Train Loss: 0.2369, Train Accuracy: 0.9084\n",
      "Validation Loss: 0.3974, Validation Accuracy: 0.8575\n",
      "Epoch 5/5\n"
     ]
    },
    {
     "name": "stderr",
     "output_type": "stream",
     "text": [
      "                                                           \r"
     ]
    },
    {
     "name": "stdout",
     "output_type": "stream",
     "text": [
      "Train Loss: 0.1825, Train Accuracy: 0.9290\n",
      "Validation Loss: 0.3817, Validation Accuracy: 0.8803\n"
     ]
    }
   ],
   "source": [
    "import torch\n",
    "import torch.nn as nn\n",
    "import torch.optim as optim\n",
    "from tqdm import tqdm\n",
    "import wandb\n",
    "from sklearn.metrics import confusion_matrix, accuracy_score\n",
    "\n",
    "\n",
    "N_EPOCHS = 5\n",
    "LEARNING_RATE = 0.001\n",
    "\n",
    "device = torch.device('cuda' if torch.cuda.is_available() else 'cpu')\n",
    "\n",
    "criterion = nn.CrossEntropyLoss()\n",
    "optimizer = optim.Adam(model.parameters(), lr=LEARNING_RATE)\n",
    "\n",
    "model.to(device)\n",
    "criterion.to(device)\n",
    "\n",
    "def train_one_epoch(model, dataloader, criterion, optimizer, device):\n",
    "    model.train()\n",
    "    running_loss = 0.0\n",
    "    correct_preds = 0\n",
    "    total_samples = 0\n",
    "\n",
    "    all_labels = []\n",
    "    all_preds = []\n",
    "    logged_images = []\n",
    "\n",
    "    for i, (images, labels) in enumerate(tqdm(dataloader, desc=\"Training\", leave=False)):\n",
    "        images, labels = images.to(device), labels.to(device)\n",
    "\n",
    "        optimizer.zero_grad()\n",
    "\n",
    "        outputs = model(images)\n",
    "        loss = criterion(outputs, labels)\n",
    "        loss.backward()\n",
    "        optimizer.step()\n",
    "\n",
    "        running_loss += loss.item()\n",
    "\n",
    "        _, preds = torch.max(outputs, 1)\n",
    "        correct_preds += (preds == labels).sum().item()\n",
    "        total_samples += labels.size(0)\n",
    "\n",
    "        all_labels.extend(labels.cpu().numpy())\n",
    "        all_preds.extend(preds.cpu().numpy())\n",
    "\n",
    "        # Log sample images (e.g., first 5 batches)\n",
    "        if i < 5:\n",
    "            for img, label, pred in zip(images[:5], labels[:5], preds[:5]):\n",
    "                img = img.permute(1, 2, 0).cpu().numpy()  # Convert image from Tensor to numpy (HWC format)\n",
    "                logged_images.append(wandb.Image(img, caption=f\"True: {label.item()}, Pred: {pred.item()}\"))\n",
    "\n",
    "    avg_loss = running_loss / len(dataloader)\n",
    "    accuracy = correct_preds / total_samples\n",
    "    conf_matrix = confusion_matrix(all_labels, all_preds)\n",
    "\n",
    "    return avg_loss, accuracy, conf_matrix, logged_images\n",
    "\n",
    "def evaluate(model, dataloader, criterion, device):\n",
    "    model.eval()\n",
    "    running_loss = 0.0\n",
    "    correct_preds = 0\n",
    "    total_samples = 0\n",
    "\n",
    "    all_labels = []\n",
    "    all_preds = []\n",
    "    logged_images = []\n",
    "\n",
    "    with torch.no_grad():\n",
    "        for i, (images, labels) in enumerate(tqdm(dataloader, desc=\"Evaluating\", leave=False)):\n",
    "            images, labels = images.to(device), labels.to(device)\n",
    "\n",
    "            outputs = model(images)\n",
    "            loss = criterion(outputs, labels)\n",
    "            running_loss += loss.item()\n",
    "\n",
    "            _, preds = torch.max(outputs, 1)\n",
    "            correct_preds += (preds == labels).sum().item()\n",
    "            total_samples += labels.size(0)\n",
    "\n",
    "            all_labels.extend(labels.cpu().numpy())\n",
    "            all_preds.extend(preds.cpu().numpy())\n",
    "\n",
    "            # Log sample images (e.g., first 5 batches)\n",
    "            if i < 5:\n",
    "                for img, label, pred in zip(images[:5], labels[:5], preds[:5]):\n",
    "                    img = img.permute(1, 2, 0).cpu().numpy()  # Convert image from Tensor to numpy (HWC format)\n",
    "                    logged_images.append(wandb.Image(img, caption=f\"True: {label.item()}, Pred: {pred.item()}\"))\n",
    "\n",
    "    avg_loss = running_loss / len(dataloader)\n",
    "    accuracy = correct_preds / total_samples\n",
    "    conf_matrix = confusion_matrix(all_labels, all_preds)\n",
    "\n",
    "    return avg_loss, accuracy, conf_matrix, logged_images\n",
    "\n",
    "# Example usage\n",
    "for epoch in range(N_EPOCHS):\n",
    "    print(f\"Epoch {epoch + 1}/{N_EPOCHS}\")\n",
    "    train_loss, train_accuracy, train_conf_matrix, train_images = train_one_epoch(model, train_dataloader, criterion, optimizer, device)\n",
    "    val_loss, val_accuracy, val_conf_matrix, val_images = evaluate(model, test_dataloader, criterion, device)\n",
    "\n",
    "    # Log metrics and images to wandb\n",
    "    wandb.log({\n",
    "        \"epoch\": epoch + 1,\n",
    "        \"train_loss\": train_loss,\n",
    "        \"train_accuracy\": train_accuracy,\n",
    "        \"train_conf_matrix\": wandb.plot.confusion_matrix(probs=None, y_true=[int(x) for row in train_conf_matrix for x in row], preds=[int(x) for row in train_conf_matrix for x in row]),\n",
    "        \"val_loss\": val_loss,\n",
    "        \"val_accuracy\": val_accuracy,\n",
    "        \"val_conf_matrix\": wandb.plot.confusion_matrix(probs=None, y_true=[int(x) for row in val_conf_matrix for x in row], preds=[int(x) for row in val_conf_matrix for x in row]),\n",
    "        \"train_images\": train_images,  # Log images from training\n",
    "        \"val_images\": val_images  # Log images from validation\n",
    "    })\n",
    "\n",
    "    print(f\"Train Loss: {train_loss:.4f}, Train Accuracy: {train_accuracy:.4f}\")\n",
    "    print(f\"Validation Loss: {val_loss:.4f}, Validation Accuracy: {val_accuracy:.4f}\")"
   ]
  },
  {
   "cell_type": "code",
   "execution_count": null,
   "metadata": {},
   "outputs": [],
   "source": []
  },
  {
   "cell_type": "code",
   "execution_count": null,
   "metadata": {},
   "outputs": [],
   "source": []
  }
 ],
 "metadata": {
  "kernelspec": {
   "display_name": "huggingface-torch",
   "language": "python",
   "name": "python3"
  },
  "language_info": {
   "codemirror_mode": {
    "name": "ipython",
    "version": 3
   },
   "file_extension": ".py",
   "mimetype": "text/x-python",
   "name": "python",
   "nbconvert_exporter": "python",
   "pygments_lexer": "ipython3",
   "version": "3.9.20"
  }
 },
 "nbformat": 4,
 "nbformat_minor": 2
}
